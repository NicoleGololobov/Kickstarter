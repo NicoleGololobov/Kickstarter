{
 "cells": [
  {
   "cell_type": "code",
   "execution_count": 16,
   "metadata": {
    "collapsed": true
   },
   "outputs": [],
   "source": [
    "# Import libraries\n",
    "import pandas as pd\n",
    "import seaborn as sns\n",
    "import numpy as np\n",
    "import matplotlib.pyplot as plt"
   ]
  },
  {
   "cell_type": "code",
   "execution_count": 17,
   "metadata": {},
   "outputs": [],
   "source": [
    "# Read data into pandas dataframe\n",
    "kick_data = pd.read_csv(\"/Users/Nicole/Documents/Kickstarter/Kickstarter002.csv\")\n",
    "kick_data = kick_data.append(pd.read_csv(\"/Users/Nicole/Documents/Kickstarter/Kickstarter003.csv\"))\n",
    "kick_data = kick_data.append(pd.read_csv(\"/Users/Nicole/Documents/Kickstarter/Kickstarter004.csv\"))\n",
    "kick_data = kick_data.append(pd.read_csv(\"/Users/Nicole/Documents/Kickstarter/Kickstarter005.csv\"))\n",
    "kick_data = kick_data.append(pd.read_csv(\"/Users/Nicole/Documents/Kickstarter/Kickstarter006.csv\"))\n",
    "kick_data = kick_data.append(pd.read_csv(\"/Users/Nicole/Documents/Kickstarter/Kickstarter007.csv\"))\n",
    "kick_data = kick_data.append(pd.read_csv(\"/Users/Nicole/Documents/Kickstarter/Kickstarter008.csv\"))\n",
    "kick_data = kick_data.append(pd.read_csv(\"/Users/Nicole/Documents/Kickstarter/Kickstarter009.csv\"))\n",
    "kick_data = kick_data.append(pd.read_csv(\"/Users/Nicole/Documents/Kickstarter/Kickstarter010.csv\"))\n",
    "kick_data = kick_data.append(pd.read_csv(\"/Users/Nicole/Documents/Kickstarter/Kickstarter011.csv\"))\n",
    "kick_data = kick_data.append(pd.read_csv(\"/Users/Nicole/Documents/Kickstarter/Kickstarter012.csv\"))"
   ]
  },
  {
   "cell_type": "code",
   "execution_count": 19,
   "metadata": {},
   "outputs": [
    {
     "data": {
      "text/html": [
       "<div>\n",
       "<style>\n",
       "    .dataframe thead tr:only-child th {\n",
       "        text-align: right;\n",
       "    }\n",
       "\n",
       "    .dataframe thead th {\n",
       "        text-align: left;\n",
       "    }\n",
       "\n",
       "    .dataframe tbody tr th {\n",
       "        vertical-align: top;\n",
       "    }\n",
       "</style>\n",
       "<table border=\"1\" class=\"dataframe\">\n",
       "  <thead>\n",
       "    <tr style=\"text-align: right;\">\n",
       "      <th></th>\n",
       "      <th>backers_count</th>\n",
       "      <th>blurb</th>\n",
       "      <th>category</th>\n",
       "      <th>country</th>\n",
       "      <th>goal</th>\n",
       "      <th>staff_pick</th>\n",
       "      <th>state</th>\n",
       "      <th>usd_pledged</th>\n",
       "    </tr>\n",
       "  </thead>\n",
       "  <tbody>\n",
       "    <tr>\n",
       "      <th>0</th>\n",
       "      <td>32</td>\n",
       "      <td>Drinking Card Games are normal playing cards w...</td>\n",
       "      <td>{\"id\":273,\"name\":\"Playing Cards\",\"slug\":\"games...</td>\n",
       "      <td>US</td>\n",
       "      <td>1600.0</td>\n",
       "      <td>False</td>\n",
       "      <td>failed</td>\n",
       "      <td>563.00000</td>\n",
       "    </tr>\n",
       "    <tr>\n",
       "      <th>1</th>\n",
       "      <td>6509</td>\n",
       "      <td>Aliens! Mutants! Weird science! Gather your He...</td>\n",
       "      <td>{\"id\":34,\"name\":\"Tabletop Games\",\"slug\":\"games...</td>\n",
       "      <td>US</td>\n",
       "      <td>100000.0</td>\n",
       "      <td>True</td>\n",
       "      <td>successful</td>\n",
       "      <td>911937.00000</td>\n",
       "    </tr>\n",
       "    <tr>\n",
       "      <th>2</th>\n",
       "      <td>0</td>\n",
       "      <td>A virtual application that allows you to be at...</td>\n",
       "      <td>{\"id\":332,\"name\":\"Apps\",\"slug\":\"technology/app...</td>\n",
       "      <td>US</td>\n",
       "      <td>50000.0</td>\n",
       "      <td>False</td>\n",
       "      <td>failed</td>\n",
       "      <td>0.00000</td>\n",
       "    </tr>\n",
       "    <tr>\n",
       "      <th>3</th>\n",
       "      <td>19</td>\n",
       "      <td>We're dusting off the vintage radio and giving...</td>\n",
       "      <td>{\"id\":339,\"name\":\"Sound\",\"slug\":\"technology/so...</td>\n",
       "      <td>AU</td>\n",
       "      <td>2000.0</td>\n",
       "      <td>False</td>\n",
       "      <td>successful</td>\n",
       "      <td>3223.97705</td>\n",
       "    </tr>\n",
       "    <tr>\n",
       "      <th>4</th>\n",
       "      <td>4</td>\n",
       "      <td>I'm a young mechanic that is fixing cars for l...</td>\n",
       "      <td>{\"id\":25,\"name\":\"Sculpture\",\"slug\":\"art/sculpt...</td>\n",
       "      <td>US</td>\n",
       "      <td>1000.0</td>\n",
       "      <td>False</td>\n",
       "      <td>failed</td>\n",
       "      <td>161.00000</td>\n",
       "    </tr>\n",
       "  </tbody>\n",
       "</table>\n",
       "</div>"
      ],
      "text/plain": [
       "   backers_count                                              blurb  \\\n",
       "0             32  Drinking Card Games are normal playing cards w...   \n",
       "1           6509  Aliens! Mutants! Weird science! Gather your He...   \n",
       "2              0  A virtual application that allows you to be at...   \n",
       "3             19  We're dusting off the vintage radio and giving...   \n",
       "4              4  I'm a young mechanic that is fixing cars for l...   \n",
       "\n",
       "                                            category country      goal  \\\n",
       "0  {\"id\":273,\"name\":\"Playing Cards\",\"slug\":\"games...      US    1600.0   \n",
       "1  {\"id\":34,\"name\":\"Tabletop Games\",\"slug\":\"games...      US  100000.0   \n",
       "2  {\"id\":332,\"name\":\"Apps\",\"slug\":\"technology/app...      US   50000.0   \n",
       "3  {\"id\":339,\"name\":\"Sound\",\"slug\":\"technology/so...      AU    2000.0   \n",
       "4  {\"id\":25,\"name\":\"Sculpture\",\"slug\":\"art/sculpt...      US    1000.0   \n",
       "\n",
       "   staff_pick       state   usd_pledged  \n",
       "0       False      failed     563.00000  \n",
       "1        True  successful  911937.00000  \n",
       "2       False      failed       0.00000  \n",
       "3       False  successful    3223.97705  \n",
       "4       False      failed     161.00000  "
      ]
     },
     "execution_count": 19,
     "metadata": {},
     "output_type": "execute_result"
    }
   ],
   "source": [
    "# Isolate relevant attributes\n",
    "kick_data = kick_data.loc[:, ['backers_count','blurb','category','country', 'goal', \n",
    "                              'staff_pick', 'state', 'usd_pledged']]\n",
    "kick_data.head()"
   ]
  },
  {
   "cell_type": "code",
   "execution_count": 21,
   "metadata": {},
   "outputs": [
    {
     "data": {
      "image/png": "[encoded data removed]",
      "text/plain": [
       "<matplotlib.figure.Figure at 0x118b7c080>"
      ]
     },
     "metadata": {},
     "output_type": "display_data"
    }
   ],
   "source": [
    "# Construct seaborn boxplot to see how being a staff pick affects how much is pledged\n",
    "sns.boxplot(x=\"staff_pick\", y=\"usd_pledged\", data=kick_data)\n",
    "\n",
    "# Show plot\n",
    "plt.show()"
   ]
  },
  {
   "cell_type": "code",
   "execution_count": null,
   "metadata": {
    "collapsed": true
   },
   "outputs": [],
   "source": []
  }
 ],
 "metadata": {
  "kernelspec": {
   "display_name": "Python 3",
   "language": "python",
   "name": "python3"
  },
  "language_info": {
   "codemirror_mode": {
    "name": "ipython",
    "version": 3
   },
   "file_extension": ".py",
   "mimetype": "text/x-python",
   "name": "python",
   "nbconvert_exporter": "python",
   "pygments_lexer": "ipython3",
   "version": "3.6.1"
  }
 },
 "nbformat": 4,
 "nbformat_minor": 2
}
