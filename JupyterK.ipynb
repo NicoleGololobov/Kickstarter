{
 "cells": [
  {
   "cell_type": "code",
   "execution_count": null,
   "metadata": {},
   "outputs": [],
   "source": [
    "# Import libraries\n",
    "import pandas as pd\n",
    "import seaborn as sns\n",
    "import numpy as np\n",
    "import matplotlib.pyplot as plt\n",
    "%matplotlib inline\n",
    "\n",
    "# Read data into pandas dataframe\n",
    "kick_data = pd.read_csv(\"/Users/Nicole/Documents/Kickstarter/Kickstarter002.csv\")\n",
    "kick_data = kick_data.append(pd.read_csv(\"/Users/Nicole/Documents/Kickstarter/Kickstarter003.csv\"))\n",
    "kick_data = kick_data.append(pd.read_csv(\"/Users/Nicole/Documents/Kickstarter/Kickstarter004.csv\"))\n",
    "kick_data = kick_data.append(pd.read_csv(\"/Users/Nicole/Documents/Kickstarter/Kickstarter005.csv\"))\n",
    "kick_data = kick_data.append(pd.read_csv(\"/Users/Nicole/Documents/Kickstarter/Kickstarter006.csv\"))\n",
    "kick_data = kick_data.append(pd.read_csv(\"/Users/Nicole/Documents/Kickstarter/Kickstarter007.csv\"))\n",
    "kick_data = kick_data.append(pd.read_csv(\"/Users/Nicole/Documents/Kickstarter/Kickstarter008.csv\"))\n",
    "kick_data = kick_data.append(pd.read_csv(\"/Users/Nicole/Documents/Kickstarter/Kickstarter009.csv\"))\n",
    "kick_data = kick_data.append(pd.read_csv(\"/Users/Nicole/Documents/Kickstarter/Kickstarter010.csv\"))\n",
    "kick_data = kick_data.append(pd.read_csv(\"/Users/Nicole/Documents/Kickstarter/Kickstarter011.csv\"))\n",
    "kick_data = kick_data.append(pd.read_csv(\"/Users/Nicole/Documents/Kickstarter/Kickstarter012.csv\"))\n",
    "\n",
    "# Isolate relevant attributes\n",
    "kick_data = kick_data.loc[:, ['backers_count','blurb','category','country', 'goal', \n",
    "                              'staff_pick', 'state', 'usd_pledged']]\n",
    "\n",
    "# remove live entries as their final state is unknown\n",
    "kick_data = kick_data[kick_data.state != 'live']\n",
    "\n",
    "# remove rows with missing values\n",
    "kick_data = kick_data.dropna()\n",
    "\n",
    "# reset index for model-building and to remove duplicate values\n",
    "kick_data = kick_data.reset_index(drop=True)\n",
    "\n",
    "kick_data.tail()"
   ]
  },
  {
   "cell_type": "code",
   "execution_count": null,
   "metadata": {},
   "outputs": [],
   "source": [
    "z = 32000\n",
    "\n",
    "# feature variables\n",
    "x_train = kick_data.loc[:z, ['backers_count','goal', 'staff_pick', 'usd_pledged']]\n",
    "x_test = kick_data.loc[z:, ['backers_count','goal', 'staff_pick', 'usd_pledged']]\n",
    "# response variable\n",
    "y_train = kick_data.loc[:z, 'state'] \n",
    "y_test = kick_data.loc[z:, 'state']"
   ]
  },
  {
   "cell_type": "code",
   "execution_count": 34,
   "metadata": {},
   "outputs": [
    {
     "name": "stdout",
     "output_type": "stream",
     "text": [
      "Coefficient: \n",
      " [[ -7.26377980e-02  -2.59474210e-09   1.77424612e-03   2.01767481e-05]\n",
      " [ -2.35784846e-02   6.62866006e-07  -4.25628028e-05  -1.39767401e-05]\n",
      " [  2.38007492e-02  -2.88030591e-05   4.80411281e-05   6.52128221e-05]\n",
      " [ -5.73519093e-02  -3.96690950e-05  -3.35926683e-02   1.75624691e-05]]\n",
      "Intercept: \n",
      " [ -1.27445304e+00   6.51983148e-04  -7.51794766e-04  -2.71483044e+00]\n"
     ]
    }
   ],
   "source": [
    "from sklearn.linear_model import LogisticRegression\n",
    "# logistic regression object\n",
    "model = LogisticRegression()\n",
    "# train model and check score\n",
    "model.fit(x_train, y_train)\n",
    "model.score(x_train, y_train)\n",
    "# output equation coefficient and intercept\n",
    "print('Coefficient: \\n', model.coef_)\n",
    "print('Intercept: \\n', model.intercept_)\n",
    "# predict output of test da\n",
    "predicted= model.predict(x_test)"
   ]
  }
 ],
 "metadata": {
  "kernelspec": {
   "display_name": "Python 3",
   "language": "python",
   "name": "python3"
  },
  "language_info": {
   "codemirror_mode": {
    "name": "ipython",
    "version": 3
   },
   "file_extension": ".py",
   "mimetype": "text/x-python",
   "name": "python",
   "nbconvert_exporter": "python",
   "pygments_lexer": "ipython3",
   "version": "3.6.1"
  }
 },
 "nbformat": 4,
 "nbformat_minor": 2
}
