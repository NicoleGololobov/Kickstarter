{
 "cells": [
  {
   "cell_type": "code",
   "execution_count": 151,
   "metadata": {},
   "outputs": [
    {
     "data": {
      "text/html": [
       "<div>\n",
       "<style>\n",
       "    .dataframe thead tr:only-child th {\n",
       "        text-align: right;\n",
       "    }\n",
       "\n",
       "    .dataframe thead th {\n",
       "        text-align: left;\n",
       "    }\n",
       "\n",
       "    .dataframe tbody tr th {\n",
       "        vertical-align: top;\n",
       "    }\n",
       "</style>\n",
       "<table border=\"1\" class=\"dataframe\">\n",
       "  <thead>\n",
       "    <tr style=\"text-align: right;\">\n",
       "      <th></th>\n",
       "      <th>backers_count</th>\n",
       "      <th>blurb</th>\n",
       "      <th>category</th>\n",
       "      <th>country</th>\n",
       "      <th>goal</th>\n",
       "      <th>staff_pick</th>\n",
       "      <th>state</th>\n",
       "      <th>usd_pledged</th>\n",
       "    </tr>\n",
       "  </thead>\n",
       "  <tbody>\n",
       "    <tr>\n",
       "      <th>40162</th>\n",
       "      <td>149</td>\n",
       "      <td>A cheeky little card game of face-stuffing ham...</td>\n",
       "      <td>{\"id\":273,\"name\":\"Playing Cards\",\"slug\":\"games...</td>\n",
       "      <td>GB</td>\n",
       "      <td>1500.0</td>\n",
       "      <td>False</td>\n",
       "      <td>successful</td>\n",
       "      <td>4153.527953</td>\n",
       "    </tr>\n",
       "    <tr>\n",
       "      <th>40163</th>\n",
       "      <td>44</td>\n",
       "      <td>A high-quality, hand-built tap tempo delay ped...</td>\n",
       "      <td>{\"id\":339,\"name\":\"Sound\",\"slug\":\"technology/so...</td>\n",
       "      <td>CA</td>\n",
       "      <td>8000.0</td>\n",
       "      <td>True</td>\n",
       "      <td>successful</td>\n",
       "      <td>11266.636702</td>\n",
       "    </tr>\n",
       "    <tr>\n",
       "      <th>40164</th>\n",
       "      <td>473</td>\n",
       "      <td>A Superhero RPG for the 21st Century!</td>\n",
       "      <td>{\"id\":34,\"name\":\"Tabletop Games\",\"slug\":\"games...</td>\n",
       "      <td>US</td>\n",
       "      <td>28000.0</td>\n",
       "      <td>False</td>\n",
       "      <td>successful</td>\n",
       "      <td>34332.500000</td>\n",
       "    </tr>\n",
       "    <tr>\n",
       "      <th>40165</th>\n",
       "      <td>52</td>\n",
       "      <td>The new series \"Fabulous High\" needs your back...</td>\n",
       "      <td>{\"id\":33,\"name\":\"Webseries\",\"slug\":\"film &amp; vid...</td>\n",
       "      <td>US</td>\n",
       "      <td>5000.0</td>\n",
       "      <td>False</td>\n",
       "      <td>successful</td>\n",
       "      <td>6510.000000</td>\n",
       "    </tr>\n",
       "    <tr>\n",
       "      <th>40166</th>\n",
       "      <td>41</td>\n",
       "      <td>Low-brow art, stickers and prints influenced b...</td>\n",
       "      <td>{\"id\":22,\"name\":\"Illustration\",\"slug\":\"art/ill...</td>\n",
       "      <td>US</td>\n",
       "      <td>1200.0</td>\n",
       "      <td>False</td>\n",
       "      <td>successful</td>\n",
       "      <td>1367.000000</td>\n",
       "    </tr>\n",
       "  </tbody>\n",
       "</table>\n",
       "</div>"
      ],
      "text/plain": [
       "       backers_count                                              blurb  \\\n",
       "40162            149  A cheeky little card game of face-stuffing ham...   \n",
       "40163             44  A high-quality, hand-built tap tempo delay ped...   \n",
       "40164            473              A Superhero RPG for the 21st Century!   \n",
       "40165             52  The new series \"Fabulous High\" needs your back...   \n",
       "40166             41  Low-brow art, stickers and prints influenced b...   \n",
       "\n",
       "                                                category country     goal  \\\n",
       "40162  {\"id\":273,\"name\":\"Playing Cards\",\"slug\":\"games...      GB   1500.0   \n",
       "40163  {\"id\":339,\"name\":\"Sound\",\"slug\":\"technology/so...      CA   8000.0   \n",
       "40164  {\"id\":34,\"name\":\"Tabletop Games\",\"slug\":\"games...      US  28000.0   \n",
       "40165  {\"id\":33,\"name\":\"Webseries\",\"slug\":\"film & vid...      US   5000.0   \n",
       "40166  {\"id\":22,\"name\":\"Illustration\",\"slug\":\"art/ill...      US   1200.0   \n",
       "\n",
       "       staff_pick       state   usd_pledged  \n",
       "40162       False  successful   4153.527953  \n",
       "40163        True  successful  11266.636702  \n",
       "40164       False  successful  34332.500000  \n",
       "40165       False  successful   6510.000000  \n",
       "40166       False  successful   1367.000000  "
      ]
     },
     "execution_count": 151,
     "metadata": {},
     "output_type": "execute_result"
    }
   ],
   "source": [
    "# Import libraries\n",
    "import pandas as pd\n",
    "import seaborn as sns\n",
    "import numpy as np\n",
    "import matplotlib.pyplot as plt\n",
    "%matplotlib inline\n",
    "\n",
    "# Read data into pandas dataframe\n",
    "kick_data = pd.read_csv(\"/Users/Nicole/Documents/Kickstarter/Kickstarter002.csv\")\n",
    "kick_data = kick_data.append(pd.read_csv(\"/Users/Nicole/Documents/Kickstarter/Kickstarter003.csv\"))\n",
    "kick_data = kick_data.append(pd.read_csv(\"/Users/Nicole/Documents/Kickstarter/Kickstarter004.csv\"))\n",
    "kick_data = kick_data.append(pd.read_csv(\"/Users/Nicole/Documents/Kickstarter/Kickstarter005.csv\"))\n",
    "kick_data = kick_data.append(pd.read_csv(\"/Users/Nicole/Documents/Kickstarter/Kickstarter006.csv\"))\n",
    "kick_data = kick_data.append(pd.read_csv(\"/Users/Nicole/Documents/Kickstarter/Kickstarter007.csv\"))\n",
    "kick_data = kick_data.append(pd.read_csv(\"/Users/Nicole/Documents/Kickstarter/Kickstarter008.csv\"))\n",
    "kick_data = kick_data.append(pd.read_csv(\"/Users/Nicole/Documents/Kickstarter/Kickstarter009.csv\"))\n",
    "kick_data = kick_data.append(pd.read_csv(\"/Users/Nicole/Documents/Kickstarter/Kickstarter010.csv\"))\n",
    "kick_data = kick_data.append(pd.read_csv(\"/Users/Nicole/Documents/Kickstarter/Kickstarter011.csv\"))\n",
    "kick_data = kick_data.append(pd.read_csv(\"/Users/Nicole/Documents/Kickstarter/Kickstarter012.csv\"))\n",
    "\n",
    "# Isolate relevant attributes\n",
    "kick_data = kick_data.loc[:, ['backers_count','blurb','category','country', 'goal', \n",
    "                              'staff_pick', 'state', 'usd_pledged']]\n",
    "\n",
    "# remove live entries as their final state is unknown\n",
    "kick_data = kick_data[kick_data.state != 'live']\n",
    "\n",
    "# remove rows with missing values\n",
    "kick_data = kick_data.dropna()\n",
    "\n",
    "# reset index for model-building and to remove duplicate values\n",
    "kick_data = kick_data.reset_index(drop=True)\n",
    "\n",
    "# initial count will return 40169 for most categories, 40167 for blurb column\n",
    "kick_data.count()\n",
    "\n",
    "kick_data.tail()"
   ]
  },
  {
   "cell_type": "code",
   "execution_count": 165,
   "metadata": {},
   "outputs": [
    {
     "data": {
      "text/plain": [
       "169"
      ]
     },
     "execution_count": 165,
     "metadata": {},
     "output_type": "execute_result"
    }
   ],
   "source": [
    "kick_data[\"category\"].nunique()"
   ]
  },
  {
   "cell_type": "code",
   "execution_count": 167,
   "metadata": {},
   "outputs": [
    {
     "name": "stdout",
     "output_type": "stream",
     "text": [
      "<class 'pandas.core.frame.DataFrame'>\n",
      "RangeIndex: 37153 entries, 0 to 37152\n",
      "Data columns (total 8 columns):\n",
      "backers_count    37153 non-null int64\n",
      "blurb            37153 non-null object\n",
      "category         37153 non-null object\n",
      "country          37153 non-null object\n",
      "goal             37153 non-null float64\n",
      "staff_pick       37153 non-null bool\n",
      "state            37153 non-null int64\n",
      "usd_pledged      37153 non-null float64\n",
      "dtypes: bool(1), float64(2), int64(2), object(3)\n",
      "memory usage: 2.0+ MB\n"
     ]
    }
   ],
   "source": [
    "cat_counts = kick_data['category'].value_counts() \n",
    "\n",
    "# list categories with value counts above certain int\n",
    "cat_list = cat_counts[cat_counts > 100].index.tolist() \n",
    "\n",
    "# dataframe with rows whose category value is in above list\n",
    "kick_data2 = kick_data[kick_data['category'].isin(cat_list)] \n",
    "\n",
    "# reset index for model-building\n",
    "kick_data2 = kick_data2.reset_index(drop=True)\n",
    "\n",
    "kick_data2.info()"
   ]
  },
  {
   "cell_type": "code",
   "execution_count": 168,
   "metadata": {},
   "outputs": [
    {
     "data": {
      "text/plain": [
       "111"
      ]
     },
     "execution_count": 168,
     "metadata": {},
     "output_type": "execute_result"
    }
   ],
   "source": [
    "kick_data2[\"category\"].nunique()"
   ]
  }
 ],
 "metadata": {
  "kernelspec": {
   "display_name": "Python 3",
   "language": "python",
   "name": "python3"
  },
  "language_info": {
   "codemirror_mode": {
    "name": "ipython",
    "version": 3
   },
   "file_extension": ".py",
   "mimetype": "text/x-python",
   "name": "python",
   "nbconvert_exporter": "python",
   "pygments_lexer": "ipython3",
   "version": "3.6.1"
  }
 },
 "nbformat": 4,
 "nbformat_minor": 2
}
