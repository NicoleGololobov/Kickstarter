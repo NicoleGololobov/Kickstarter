{
 "cells": [
  {
   "cell_type": "code",
   "execution_count": null,
   "metadata": {},
   "outputs": [],
   "source": [
    "# Import libraries\n",
    "import pandas as pd\n",
    "import seaborn as sns\n",
    "import numpy as np\n",
    "import matplotlib.pyplot as plt\n",
    "\n",
    "# Read data into pandas dataframe\n",
    "kick_data = pd.read_csv(\"/Users/Nicole/Documents/Kickstarter/Kickstarter002.csv\")\n",
    "kick_data = kick_data.append(pd.read_csv(\"/Users/Nicole/Documents/Kickstarter/Kickstarter003.csv\"))\n",
    "kick_data = kick_data.append(pd.read_csv(\"/Users/Nicole/Documents/Kickstarter/Kickstarter004.csv\"))\n",
    "kick_data = kick_data.append(pd.read_csv(\"/Users/Nicole/Documents/Kickstarter/Kickstarter005.csv\"))\n",
    "kick_data = kick_data.append(pd.read_csv(\"/Users/Nicole/Documents/Kickstarter/Kickstarter006.csv\"))\n",
    "kick_data = kick_data.append(pd.read_csv(\"/Users/Nicole/Documents/Kickstarter/Kickstarter007.csv\"))\n",
    "kick_data = kick_data.append(pd.read_csv(\"/Users/Nicole/Documents/Kickstarter/Kickstarter008.csv\"))\n",
    "kick_data = kick_data.append(pd.read_csv(\"/Users/Nicole/Documents/Kickstarter/Kickstarter009.csv\"))\n",
    "kick_data = kick_data.append(pd.read_csv(\"/Users/Nicole/Documents/Kickstarter/Kickstarter010.csv\"))\n",
    "kick_data = kick_data.append(pd.read_csv(\"/Users/Nicole/Documents/Kickstarter/Kickstarter011.csv\"))\n",
    "kick_data = kick_data.append(pd.read_csv(\"/Users/Nicole/Documents/Kickstarter/Kickstarter012.csv\"))\n",
    "\n",
    "# Isolate relevant attributes\n",
    "kick_data = kick_data.loc[:, ['backers_count','blurb','category','country', 'goal', \n",
    "                              'staff_pick', 'state', 'usd_pledged']]\n",
    "# initial count will return 41664 for most categories, 41662 for blurb column\n",
    "kick_data.count()\n",
    "\n",
    "kick_data.head()"
   ]
  },
  {
   "cell_type": "code",
   "execution_count": 127,
   "metadata": {},
   "outputs": [
    {
     "data": {
      "text/plain": [
       "backers_count    40167\n",
       "blurb            40167\n",
       "category         40167\n",
       "country          40167\n",
       "goal             40167\n",
       "staff_pick       40167\n",
       "state            40167\n",
       "usd_pledged      40167\n",
       "dtype: int64"
      ]
     },
     "execution_count": 127,
     "metadata": {},
     "output_type": "execute_result"
    }
   ],
   "source": [
    "# using new cell allows dataframe from previous cell to remain intact\n",
    "# values in state column changed to integers for correlation analysis\n",
    "kick_data.loc[kick_data[\"state\"] == \"successful\", 'state'] = 1\n",
    "kick_data.loc[kick_data[\"state\"] == \"failed\", 'state'] = 0\n",
    "kick_data.loc[kick_data[\"state\"] == \"canceled\", 'state'] = 0\n",
    "kick_data.loc[kick_data[\"state\"] == \"suspended\", 'state'] = 0\n",
    "# remove live entries as their final state is unknown\n",
    "kick_data = kick_data[kick_data.state != 'live']\n",
    "# remove rows with missing values\n",
    "kick_data = kick_data.dropna()\n",
    "\n",
    "kick_data.count()"
   ]
  },
  {
   "cell_type": "code",
   "execution_count": 131,
   "metadata": {},
   "outputs": [
    {
     "name": "stdout",
     "output_type": "stream",
     "text": [
      "backers_count      int64\n",
      "blurb             object\n",
      "category          object\n",
      "country           object\n",
      "goal             float64\n",
      "staff_pick          bool\n",
      "state              int64\n",
      "usd_pledged      float64\n",
      "dtype: object\n"
     ]
    }
   ],
   "source": [
    "# change state to int so that it will be in seaborn heatmap\n",
    "kick_data['state'] = kick_data['state'].astype(str).astype(int)\n",
    "# check if state column has been converted to int\n",
    "print(kick_data.dtypes) "
   ]
  },
  {
   "cell_type": "code",
   "execution_count": null,
   "metadata": {},
   "outputs": [],
   "source": [
    "# Count entries per value in category column\n",
    "kick_data['category'].value_counts()\n",
    "# Return entries per value in category column with a count of less than a certain number\n",
    "kick_data['category'].value_counts()[kick_data['category'].value_counts()<1]\n",
    "# Count how many unique values in category column\n",
    "kick_data['category'].nunique()"
   ]
  },
  {
   "cell_type": "code",
   "execution_count": null,
   "metadata": {},
   "outputs": [],
   "source": [
    "# Count entries per value in country column\n",
    "kick_data['country'].value_counts()"
   ]
  },
  {
   "cell_type": "code",
   "execution_count": null,
   "metadata": {},
   "outputs": [],
   "source": [
    "# Count entries per value in staff_pick column\n",
    "kick_data['staff_pick'].value_counts()"
   ]
  },
  {
   "cell_type": "code",
   "execution_count": null,
   "metadata": {},
   "outputs": [],
   "source": [
    "# Count entries per value in state column\n",
    "kick_data['state'].value_counts()"
   ]
  },
  {
   "cell_type": "code",
   "execution_count": 135,
   "metadata": {},
   "outputs": [
    {
     "data": {
      "image/png": "[encoded data removed]",
      "text/plain": [
       "<matplotlib.figure.Figure at 0x12e9ed358>"
      ]
     },
     "metadata": {},
     "output_type": "display_data"
    }
   ],
   "source": [
    "# Construct seaborn jointplot\n",
    "sns.jointplot(data=kick_data, x='backers_count', y='usd_pledged', color='b')\n",
    "\n",
    "# Show plot\n",
    "plt.show()"
   ]
  },
  {
   "cell_type": "code",
   "execution_count": 134,
   "metadata": {},
   "outputs": [
    {
     "data": {
      "image/png": "[encoded data removed]",
      "text/plain": [
       "<matplotlib.figure.Figure at 0x11f4bd6d8>"
      ]
     },
     "metadata": {},
     "output_type": "display_data"
    }
   ],
   "source": [
    "# Construct seaborn heatmap to get correlations between attributes\n",
    "sns.heatmap(kick_data.corr(), annot=True, cmap='PRGn')\n",
    "# Show plot\n",
    "plt.show()"
   ]
  },
  {
   "cell_type": "code",
   "execution_count": null,
   "metadata": {},
   "outputs": [],
   "source": [
    "# Construct seaborn boxplot to see how being a staff pick affects how much is pledged\n",
    "sns.boxplot(x=\"staff_pick\", y=\"usd_pledged\", data=kick_data)\n",
    "# Show plot\n",
    "plt.show()"
   ]
  },
  {
   "cell_type": "code",
   "execution_count": null,
   "metadata": {},
   "outputs": [],
   "source": [
    "# Construct seaborn boxplot to see how country affects how much is pledged\n",
    "sns.boxplot(x=\"country\", y=\"usd_pledged\", data=kick_data)\n",
    "# Show plot\n",
    "plt.show()"
   ]
  },
  {
   "cell_type": "code",
   "execution_count": null,
   "metadata": {},
   "outputs": [],
   "source": [
    "# Construct heatmap to show median value of usd_pledged based on country and staff pick\n",
    "kick_pt = kick_data.pivot_table(index='country', columns='staff_pick', values='usd_pledged', aggfunc=np.median)\n",
    "sns.heatmap(kick_pt, annot=True, fmt=\".2f\", cmap = \"PRGn\")\n",
    "# Show plot\n",
    "plt.show()"
   ]
  },
  {
   "cell_type": "code",
   "execution_count": null,
   "metadata": {},
   "outputs": [],
   "source": [
    "# Count entries per country based on staff_pick\n",
    "kick_pt = kick_data.pivot_table(index='country', columns='staff_pick', aggfunc='size')\n",
    "sns.heatmap(kick_pt, annot=True, fmt=\".0f\", cmap = \"PRGn\")\n",
    "# Show plot\n",
    "plt.show()"
   ]
  },
  {
   "cell_type": "code",
   "execution_count": null,
   "metadata": {},
   "outputs": [],
   "source": [
    "# Construct heatmap to show maximum value of usd_pledged based on country and staff pick\n",
    "kick_pt = kick_data.pivot_table(index='country', columns='state', values='usd_pledged', aggfunc=np.max)\n",
    "sns.heatmap(kick_pt, annot=True, fmt=\".2f\", cmap = \"PRGn\")\n",
    "# Show plot\n",
    "plt.show()"
   ]
  },
  {
   "cell_type": "code",
   "execution_count": null,
   "metadata": {
    "collapsed": true
   },
   "outputs": [],
   "source": [
    "# find proportion of successful entries for each category\n",
    "# find proportion of successful entries for each country\n",
    "# find average goal and usd_pledged for project\n",
    "# create model predicting success based on other attributes\n",
    "# use training and testing data to classify state based on other attributes"
   ]
  }
 ],
 "metadata": {
  "kernelspec": {
   "display_name": "Python 3",
   "language": "python",
   "name": "python3"
  },
  "language_info": {
   "codemirror_mode": {
    "name": "ipython",
    "version": 3
   },
   "file_extension": ".py",
   "mimetype": "text/x-python",
   "name": "python",
   "nbconvert_exporter": "python",
   "pygments_lexer": "ipython3",
   "version": "3.6.1"
  }
 },
 "nbformat": 4,
 "nbformat_minor": 2
}
