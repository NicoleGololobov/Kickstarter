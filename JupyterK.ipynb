{
 "cells": [
  {
   "cell_type": "code",
   "execution_count": null,
   "metadata": {},
   "outputs": [],
   "source": [
    "# Import libraries\n",
    "import pandas as pd\n",
    "import seaborn as sns\n",
    "import numpy as np\n",
    "import matplotlib.pyplot as plt\n",
    "%matplotlib inline\n",
    "\n",
    "# Read data into pandas dataframe\n",
    "kick_data = pd.read_csv(\"/Users/Nicole/Documents/Kickstarter/Kickstarter002.csv\")\n",
    "kick_data = kick_data.append(pd.read_csv(\"/Users/Nicole/Documents/Kickstarter/Kickstarter003.csv\"))\n",
    "kick_data = kick_data.append(pd.read_csv(\"/Users/Nicole/Documents/Kickstarter/Kickstarter004.csv\"))\n",
    "kick_data = kick_data.append(pd.read_csv(\"/Users/Nicole/Documents/Kickstarter/Kickstarter005.csv\"))\n",
    "kick_data = kick_data.append(pd.read_csv(\"/Users/Nicole/Documents/Kickstarter/Kickstarter006.csv\"))\n",
    "kick_data = kick_data.append(pd.read_csv(\"/Users/Nicole/Documents/Kickstarter/Kickstarter007.csv\"))\n",
    "kick_data = kick_data.append(pd.read_csv(\"/Users/Nicole/Documents/Kickstarter/Kickstarter008.csv\"))\n",
    "kick_data = kick_data.append(pd.read_csv(\"/Users/Nicole/Documents/Kickstarter/Kickstarter009.csv\"))\n",
    "kick_data = kick_data.append(pd.read_csv(\"/Users/Nicole/Documents/Kickstarter/Kickstarter010.csv\"))\n",
    "kick_data = kick_data.append(pd.read_csv(\"/Users/Nicole/Documents/Kickstarter/Kickstarter011.csv\"))\n",
    "kick_data = kick_data.append(pd.read_csv(\"/Users/Nicole/Documents/Kickstarter/Kickstarter012.csv\"))\n",
    "\n",
    "# Isolate relevant attributes\n",
    "kick_data = kick_data.loc[:, ['backers_count','blurb','category','country', 'goal', \n",
    "                              'staff_pick', 'state', 'usd_pledged']]\n",
    "\n",
    "# remove live entries as their final state is unknown\n",
    "kick_data = kick_data[kick_data.state != 'live']\n",
    "\n",
    "# remove rows with missing values\n",
    "kick_data = kick_data.dropna()\n",
    "\n",
    "# reset index for model-building and to remove duplicate values\n",
    "kick_data = kick_data.reset_index(drop=True)\n",
    "\n",
    "kick_data.tail()"
   ]
  },
  {
   "cell_type": "code",
   "execution_count": 54,
   "metadata": {},
   "outputs": [
    {
     "name": "stdout",
     "output_type": "stream",
     "text": [
      "0.09966940124892862\n"
     ]
    }
   ],
   "source": [
    "z = 32000\n",
    "\n",
    "# feature variables\n",
    "x_train = kick_data.loc[:z, ['backers_count','goal', 'staff_pick', 'usd_pledged']]\n",
    "x_test = kick_data.loc[z:, ['backers_count','goal', 'staff_pick', 'usd_pledged']]\n",
    "# response variable\n",
    "y_train = kick_data.loc[:z, 'state'] \n",
    "y_test = kick_data.loc[z:, 'state']\n",
    "\n",
    "from sklearn import tree\n",
    "# make tree object \n",
    "model = tree.DecisionTreeClassifier(criterion='entropy') \n",
    "# train the model and check score\n",
    "model.fit(x_train, y_train)\n",
    "model.score(x_train, y_train)\n",
    "# predict output\n",
    "predicted= model.predict(x_test)\n",
    "\n",
    "# measure error rate\n",
    "y_test = y_test.reset_index(drop=True)\n",
    "e = 0\n",
    "for i in range (0,len(predicted)):\n",
    "    if predicted[i] != y_test[i]:\n",
    "        e = e+1\n",
    "print(e/len(predicted))"
   ]
  }
 ],
 "metadata": {
  "kernelspec": {
   "display_name": "Python 3",
   "language": "python",
   "name": "python3"
  },
  "language_info": {
   "codemirror_mode": {
    "name": "ipython",
    "version": 3
   },
   "file_extension": ".py",
   "mimetype": "text/x-python",
   "name": "python",
   "nbconvert_exporter": "python",
   "pygments_lexer": "ipython3",
   "version": "3.6.1"
  }
 },
 "nbformat": 4,
 "nbformat_minor": 2
}
