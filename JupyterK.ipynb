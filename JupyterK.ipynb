{
 "cells": [
  {
   "cell_type": "code",
   "execution_count": null,
   "metadata": {},
   "outputs": [],
   "source": [
    "# Import libraries\n",
    "import pandas as pd\n",
    "import seaborn as sns\n",
    "import numpy as np\n",
    "import matplotlib.pyplot as plt\n",
    "%matplotlib inline\n",
    "\n",
    "# Read data into pandas dataframe\n",
    "kick_data = pd.read_csv(\"/Users/Nicole/Documents/Kickstarter/Kickstarter002.csv\")\n",
    "kick_data = kick_data.append(pd.read_csv(\"/Users/Nicole/Documents/Kickstarter/Kickstarter003.csv\"))\n",
    "kick_data = kick_data.append(pd.read_csv(\"/Users/Nicole/Documents/Kickstarter/Kickstarter004.csv\"))\n",
    "kick_data = kick_data.append(pd.read_csv(\"/Users/Nicole/Documents/Kickstarter/Kickstarter005.csv\"))\n",
    "kick_data = kick_data.append(pd.read_csv(\"/Users/Nicole/Documents/Kickstarter/Kickstarter006.csv\"))\n",
    "kick_data = kick_data.append(pd.read_csv(\"/Users/Nicole/Documents/Kickstarter/Kickstarter007.csv\"))\n",
    "kick_data = kick_data.append(pd.read_csv(\"/Users/Nicole/Documents/Kickstarter/Kickstarter008.csv\"))\n",
    "kick_data = kick_data.append(pd.read_csv(\"/Users/Nicole/Documents/Kickstarter/Kickstarter009.csv\"))\n",
    "kick_data = kick_data.append(pd.read_csv(\"/Users/Nicole/Documents/Kickstarter/Kickstarter010.csv\"))\n",
    "kick_data = kick_data.append(pd.read_csv(\"/Users/Nicole/Documents/Kickstarter/Kickstarter011.csv\"))\n",
    "kick_data = kick_data.append(pd.read_csv(\"/Users/Nicole/Documents/Kickstarter/Kickstarter012.csv\"))\n",
    "\n",
    "# Isolate relevant attributes\n",
    "kick_data = kick_data.loc[:, ['backers_count','blurb','category','country', 'goal', \n",
    "                              'staff_pick', 'state', 'usd_pledged']]\n",
    "\n",
    "# remove live entries as their final state is unknown\n",
    "kick_data = kick_data[kick_data.state != 'live']\n",
    "kick_data = kick_data.reset_index(drop=True)\n",
    "\n",
    "# initial count will return 40169 for most categories, 40167 for blurb column\n",
    "kick_data.count()"
   ]
  },
  {
   "cell_type": "code",
   "execution_count": null,
   "metadata": {},
   "outputs": [],
   "source": [
    "# values in state column changed to integers for correlation analysis\n",
    "kick_data.loc[:,\"state\"] = kick_data.loc[:,\"state\"].apply(lambda x: 1 if x == 'successful' else 0)\n",
    "\n",
    "# remove rows with missing values\n",
    "kick_data = kick_data.dropna()\n",
    "\n",
    "# check that state values are int\n",
    "kick_data.info() "
   ]
  },
  {
   "cell_type": "code",
   "execution_count": null,
   "metadata": {},
   "outputs": [],
   "source": [
    "# Count entries per value in category column\n",
    "kick_data['category'].value_counts()\n",
    "# Return entries per value in category column with a count of less than a certain number\n",
    "kick_data['category'].value_counts()[kick_data['category'].value_counts()<1]\n",
    "# Count how many unique values in category column\n",
    "kick_data['category'].nunique()"
   ]
  },
  {
   "cell_type": "code",
   "execution_count": null,
   "metadata": {},
   "outputs": [],
   "source": [
    "# Count entries per value in country column\n",
    "kick_data['country'].value_counts()"
   ]
  },
  {
   "cell_type": "code",
   "execution_count": null,
   "metadata": {},
   "outputs": [],
   "source": [
    "# Count entries per value in staff_pick column\n",
    "kick_data['staff_pick'].value_counts()"
   ]
  },
  {
   "cell_type": "code",
   "execution_count": null,
   "metadata": {},
   "outputs": [],
   "source": [
    "# Count entries per value in state column\n",
    "kick_data['state'].value_counts()"
   ]
  },
  {
   "cell_type": "code",
   "execution_count": null,
   "metadata": {},
   "outputs": [],
   "source": [
    "# Construct seaborn jointplot\n",
    "sns.jointplot(data=kick_data, x='backers_count', y='usd_pledged', color='b')\n",
    "plt.show()"
   ]
  },
  {
   "cell_type": "code",
   "execution_count": null,
   "metadata": {},
   "outputs": [],
   "source": [
    "# Construct seaborn heatmap to get correlations between attributes\n",
    "sns.heatmap(kick_data.corr(), annot=True, cmap='PRGn')\n",
    "plt.show()"
   ]
  },
  {
   "cell_type": "code",
   "execution_count": null,
   "metadata": {},
   "outputs": [],
   "source": [
    "# Construct seaborn boxplot to see how being a staff pick affects how much is pledged\n",
    "sns.boxplot(x=\"staff_pick\", y=\"usd_pledged\", data=kick_data)\n",
    "plt.show()"
   ]
  },
  {
   "cell_type": "code",
   "execution_count": null,
   "metadata": {},
   "outputs": [],
   "source": [
    "# Construct seaborn boxplot to see how country affects how much is pledged\n",
    "sns.boxplot(x=\"country\", y=\"usd_pledged\", data=kick_data)\n",
    "plt.show()"
   ]
  },
  {
   "cell_type": "code",
   "execution_count": null,
   "metadata": {},
   "outputs": [],
   "source": [
    "# Construct heatmap to show median value of usd_pledged based on country and staff pick\n",
    "kick_pt = kick_data.pivot_table(index='country', columns='staff_pick', values='usd_pledged', aggfunc=np.median)\n",
    "sns.heatmap(kick_pt, annot=True, fmt=\".2f\", cmap = \"PRGn\")\n",
    "plt.show()"
   ]
  },
  {
   "cell_type": "code",
   "execution_count": null,
   "metadata": {},
   "outputs": [],
   "source": [
    "# Count entries per country based on staff_pick\n",
    "kick_pt = kick_data.pivot_table(index='country', columns='staff_pick', aggfunc='size')\n",
    "sns.heatmap(kick_pt, annot=True, fmt=\".0f\", cmap = \"PRGn\")\n",
    "plt.show()"
   ]
  },
  {
   "cell_type": "code",
   "execution_count": null,
   "metadata": {},
   "outputs": [],
   "source": [
    "# Construct heatmap to show maximum value of usd_pledged based on country and staff pick\n",
    "kick_pt = kick_data.pivot_table(index='country', columns='state', values='usd_pledged', aggfunc=np.max)\n",
    "sns.heatmap(kick_pt, annot=True, fmt=\".2f\", cmap = \"PRGn\")\n",
    "plt.show()"
   ]
  },
  {
   "cell_type": "code",
   "execution_count": null,
   "metadata": {},
   "outputs": [],
   "source": [
    "# feature variables\n",
    "z = 32000\n",
    "\n",
    "x_test = kick_data.loc[:z, kick_data.columns != 'state']\n",
    "x_train = kick_data.loc[z:, kick_data.columns != 'state']\n",
    "\n",
    "# response variable\n",
    "y_test = kick_data.loc[:z, 'state'] \n",
    "y_train = kick_data.loc[z:, 'state']"
   ]
  },
  {
   "cell_type": "code",
   "execution_count": null,
   "metadata": {
    "collapsed": true
   },
   "outputs": [],
   "source": [
    "# This file simulates a data by creating a vector 't', and the vector\n",
    "# 'y' by setting y=3+4*t + eps \n",
    "# where 'eps' is a random error following normal distribution with mean\n",
    "# zero and standard deviation 3. We use this data to create a kNN\n",
    "# regression model.\n",
    "# \n",
    "# The kknn library must be installed. It allows both knn regression and\n",
    "# classification\n",
    "library(kknn)\n",
    "\n",
    "tt=seq(-5,5,by=0.5)\n",
    "yy=4*tt+3+rnorm(length(tt),0,sd=3.5)\n",
    "trainDat=data.frame(t=tt,y=yy)\n",
    "testDat=data.frame(t=seq(-5,5,by=0.01),y=3+4*seq(-5,5,by=0.01)+rnorm(length(seq(-5,5,by=0.01)),0,3))\n",
    "# Experiment with different values of k and see the results.\n",
    "k1<-as.numeric(readline(paste0(\"Write k between 1 and \", length(tt),'\\n')))\n",
    "repeat{\n",
    "# Now build the knn regression model. you should set\n",
    "# kernel=\"rectangular\" otherwise, the kknn method will use a bit more\n",
    "# sophistcated versions of knn and not the one covered in class\n",
    "\n",
    "knnRegModel<-kknn(y~t, train=trainDat, test=testDat,k=k1,kernel=\"rectangular\")\n",
    "\n",
    "# Create a data frame for predicted coordinates\n",
    "datPred<-data.frame(t=seq(-5,5,by=0.01),y=predict(knnRegModel, data=testDat))\n",
    "\n",
    "###############################################################\n",
    "# To use the ordinary R graphics functions  un-comment the    #\n",
    "# following lines, and comment out the lines below for the    #\n",
    "# ggplot2 package                                             #\n",
    "###############################################################\n",
    "\n",
    "plot(tt,yy,col=\"blue\", main=paste(k1,\"-NN Regression\"))\n",
    "#readline()\n",
    "lines(testDat$t,predict(knnRegModel, data=testDat) ,col=\"red\")\n",
    "\n",
    "\n",
    "###############################################################\n",
    "# To use ggplot2 library un-comment the following lines, and  #\n",
    "# comment out the lines above for the regular R graphic       #\n",
    "# functions.                                                  #\n",
    "###############################################################\n",
    "\n",
    "# The ggplot2 library is a nicer looking graphics package. Its product\n",
    "# looks a bit more professional looking. Install and run this library\n",
    "# Use the following for ggplot package plotting. \n",
    "#library(ggplot2)\n",
    "#sp<-ggplot(trainDat,aes(x=t,y=y))\n",
    "#sp<-sp+geom_point(color=I(\"blue\"))+\n",
    "#     geom_line(data=datPred,aes(x=t,y=y),color=I(\"red\"))\n",
    "#sp<-sp+ggtitle(paste(k1,\"-NN\"))\n",
    "# To see the actual graph in ggplot you must use \"print\" otherwise no\n",
    "# drawing will take place:\n",
    "#print(sp)\n",
    "k1<-as.numeric(readline(paste0(\"Write k between 1 and \", length(tt),'\\n')))\n",
    "if (k1<1) break\n",
    "}\n"
   ]
  }
 ],
 "metadata": {
  "kernelspec": {
   "display_name": "Python 3",
   "language": "python",
   "name": "python3"
  },
  "language_info": {
   "codemirror_mode": {
    "name": "ipython",
    "version": 3
   },
   "file_extension": ".py",
   "mimetype": "text/x-python",
   "name": "python",
   "nbconvert_exporter": "python",
   "pygments_lexer": "ipython3",
   "version": "3.6.1"
  }
 },
 "nbformat": 4,
 "nbformat_minor": 2
}
