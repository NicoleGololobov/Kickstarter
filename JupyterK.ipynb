{
 "cells": [
  {
   "cell_type": "code",
   "execution_count": null,
   "metadata": {},
   "outputs": [],
   "source": [
    "# Import libraries\n",
    "import pandas as pd\n",
    "import seaborn as sns\n",
    "import numpy as np\n",
    "import matplotlib.pyplot as plt\n",
    "%matplotlib inline\n",
    "\n",
    "# Read data into pandas dataframe\n",
    "kick_data = pd.read_csv(\"/Users/Nicole/Documents/Kickstarter/Kickstarter002.csv\")\n",
    "kick_data = kick_data.append(pd.read_csv(\"/Users/Nicole/Documents/Kickstarter/Kickstarter003.csv\"))\n",
    "kick_data = kick_data.append(pd.read_csv(\"/Users/Nicole/Documents/Kickstarter/Kickstarter004.csv\"))\n",
    "kick_data = kick_data.append(pd.read_csv(\"/Users/Nicole/Documents/Kickstarter/Kickstarter005.csv\"))\n",
    "kick_data = kick_data.append(pd.read_csv(\"/Users/Nicole/Documents/Kickstarter/Kickstarter006.csv\"))\n",
    "kick_data = kick_data.append(pd.read_csv(\"/Users/Nicole/Documents/Kickstarter/Kickstarter007.csv\"))\n",
    "kick_data = kick_data.append(pd.read_csv(\"/Users/Nicole/Documents/Kickstarter/Kickstarter008.csv\"))\n",
    "kick_data = kick_data.append(pd.read_csv(\"/Users/Nicole/Documents/Kickstarter/Kickstarter009.csv\"))\n",
    "kick_data = kick_data.append(pd.read_csv(\"/Users/Nicole/Documents/Kickstarter/Kickstarter010.csv\"))\n",
    "kick_data = kick_data.append(pd.read_csv(\"/Users/Nicole/Documents/Kickstarter/Kickstarter011.csv\"))\n",
    "kick_data = kick_data.append(pd.read_csv(\"/Users/Nicole/Documents/Kickstarter/Kickstarter012.csv\"))\n",
    "\n",
    "# Isolate relevant attributes\n",
    "kick_data = kick_data.loc[:, ['backers_count','blurb','category','country', 'goal', \n",
    "                              'staff_pick', 'state', 'usd_pledged']]\n",
    "\n",
    "# remove live entries as their final state is unknown\n",
    "kick_data = kick_data[kick_data.state != 'live']\n",
    "\n",
    "# remove rows with missing values\n",
    "kick_data = kick_data.dropna()\n",
    "\n",
    "# reset index for model-building and to remove duplicate values\n",
    "kick_data = kick_data.reset_index(drop=True)\n",
    "\n",
    "# initial count will return 40169 for most categories, 40167 for blurb column\n",
    "kick_data.count()\n",
    "\n",
    "kick_data.tail()"
   ]
  },
  {
   "cell_type": "code",
   "execution_count": null,
   "metadata": {},
   "outputs": [],
   "source": [
    "# Return entries per category with a count of less than a certain int, set to zero for all\n",
    "kick_data['category'].value_counts()[kick_data['category'].value_counts()>0]"
   ]
  },
  {
   "cell_type": "code",
   "execution_count": null,
   "metadata": {},
   "outputs": [],
   "source": [
    "# Return count of unique values\n",
    "kick_data['category'].nunique()"
   ]
  },
  {
   "cell_type": "code",
   "execution_count": null,
   "metadata": {},
   "outputs": [],
   "source": [
    "# Count entries per value in country column\n",
    "kick_data['country'].value_counts()"
   ]
  },
  {
   "cell_type": "code",
   "execution_count": null,
   "metadata": {},
   "outputs": [],
   "source": [
    "# Count entries per value in staff_pick column\n",
    "kick_data['staff_pick'].value_counts()"
   ]
  },
  {
   "cell_type": "code",
   "execution_count": null,
   "metadata": {},
   "outputs": [],
   "source": [
    "# Count entries per value in state column\n",
    "kick_data['state'].value_counts()"
   ]
  },
  {
   "cell_type": "code",
   "execution_count": null,
   "metadata": {},
   "outputs": [],
   "source": [
    "# Construct seaborn jointplot\n",
    "sns.jointplot(data=kick_data, x='backers_count', y='usd_pledged', color='b')\n",
    "plt.show()"
   ]
  },
  {
   "cell_type": "code",
   "execution_count": null,
   "metadata": {},
   "outputs": [],
   "source": [
    "# state values changed to integers for correlation analysis\n",
    "kick_data.loc[:,\"state\"] = kick_data.loc[:,\"state\"].apply(lambda x: 1 if x == 'successful' else 0)\n",
    "# check that state values are int\n",
    "kick_data.info() "
   ]
  },
  {
   "cell_type": "code",
   "execution_count": null,
   "metadata": {},
   "outputs": [],
   "source": [
    "# Construct seaborn heatmap to get correlations between attributes\n",
    "sns.heatmap(kick_data.corr(), annot=True, cmap='PRGn')\n",
    "plt.show()"
   ]
  },
  {
   "cell_type": "code",
   "execution_count": null,
   "metadata": {},
   "outputs": [],
   "source": [
    "# Construct seaborn boxplot to see how country affects how much is pledged\n",
    "sns.boxplot(x=\"country\", y=\"usd_pledged\", data=kick_data)\n",
    "plt.show()"
   ]
  },
  {
   "cell_type": "code",
   "execution_count": null,
   "metadata": {},
   "outputs": [],
   "source": [
    "# Count entries per country based on staff_pick\n",
    "kick_pt = kick_data.pivot_table(index='country', columns='staff_pick', aggfunc='size')\n",
    "sns.heatmap(kick_pt, annot=True, fmt=\".0f\", cmap = \"PRGn\")\n",
    "plt.show()"
   ]
  },
  {
   "cell_type": "code",
   "execution_count": null,
   "metadata": {},
   "outputs": [],
   "source": [
    "# Construct heatmap to show median value of usd_pledged based on country and staff pick\n",
    "kick_pt = kick_data.pivot_table(index='country', columns='staff_pick', values='usd_pledged', aggfunc=np.median)\n",
    "sns.heatmap(kick_pt, annot=True, fmt=\".2f\", cmap = \"PRGn\")\n",
    "plt.show()"
   ]
  },
  {
   "cell_type": "code",
   "execution_count": null,
   "metadata": {},
   "outputs": [],
   "source": [
    "# kNN model\n",
    "\n",
    "z = 32000\n",
    "\n",
    "# feature variables\n",
    "x_train = kick_data.loc[:z, ['backers_count','goal', 'staff_pick', 'usd_pledged']]\n",
    "x_test = kick_data.loc[z:, ['backers_count','goal', 'staff_pick', 'usd_pledged']]\n",
    "# response variable\n",
    "y_train = kick_data.loc[:z, 'state'] \n",
    "y_test = kick_data.loc[z:, 'state']\n",
    "\n",
    "from sklearn.neighbors import KNeighborsClassifier \n",
    "from sklearn import metrics\n",
    "import math as m\n",
    "\n",
    "# find best k\n",
    "best_k = 0\n",
    "best_accuracy = 0\n",
    "\n",
    "for i in range (1, m.floor(len(x_test)/50)):\n",
    "    # training model on training set\n",
    "    knn = KNeighborsClassifier(n_neighbors=i) \n",
    "    knn.fit(x_train, y_train) \n",
    "    # making predictions on testing set \n",
    "    y_pred = knn.predict(x_test) \n",
    "    a = metrics.accuracy_score(y_test, y_pred)\n",
    "    if a > best_accuracy:\n",
    "        best_k = i\n",
    "        best_accuracy = a\n",
    "print(best_k,best_accuracy)"
   ]
  },
  {
   "cell_type": "code",
   "execution_count": null,
   "metadata": {
    "collapsed": true
   },
   "outputs": [],
   "source": [
    "# usd_pledged as y, backers, country, staff_pick\n",
    "from sklearn import linear_model\n",
    "\n",
    "x_train=input_variables_values_training_datasets\n",
    "y_train=target_variables_values_training_datasets\n",
    "x_test=input_variables_values_test_datasets\n",
    "# Create linear regression object\n",
    "linear = linear_model.LinearRegression()\n",
    "# Train the model using the training sets and check score\n",
    "linear.fit(x_train, y_train)\n",
    "linear.score(x_train, y_train)\n",
    "#Equation coefficient and Intercept\n",
    "print('Coefficient: \\n', linear.coef_)\n",
    "print('Intercept: \\n', linear.intercept_)\n",
    "#Predict Output\n",
    "predicted= linear.predict(x_test)"
   ]
  },
  {
   "cell_type": "code",
   "execution_count": null,
   "metadata": {
    "collapsed": true
   },
   "outputs": [],
   "source": [
    "from sklearn.linear_model import LogisticRegression\n",
    "#Assumed you have, X (predictor) and Y (target) for training data set and x_test(predictor) of test_dataset\n",
    "# Create logistic regression object\n",
    "model = LogisticRegression()\n",
    "# Train the model using the training sets and check score\n",
    "model.fit(X, y)\n",
    "model.score(X, y)\n",
    "#Equation coefficient and Intercept\n",
    "print('Coefficient: \\n', model.coef_)\n",
    "print('Intercept: \\n', model.intercept_)\n",
    "#Predict Output\n",
    "predicted= model.predict(x_test)"
   ]
  },
  {
   "cell_type": "code",
   "execution_count": null,
   "metadata": {
    "collapsed": true
   },
   "outputs": [],
   "source": [
    "from sklearn import tree\n",
    "#Assumed you have, X (predictor) and Y (target) for training data set and x_test(predictor) of test_dataset\n",
    "# Create tree object \n",
    "model = tree.DecisionTreeClassifier(criterion='gini') # for classification, here you can change the algorithm as gini or entropy (information gain) by default it is gini  \n",
    "# model = tree.DecisionTreeRegressor() for regression\n",
    "# Train the model using the training sets and check score\n",
    "model.fit(X, y)\n",
    "model.score(X, y)\n",
    "#Predict Output\n",
    "predicted= model.predict(x_test)"
   ]
  }
 ],
 "metadata": {
  "kernelspec": {
   "display_name": "Python 3",
   "language": "python",
   "name": "python3"
  },
  "language_info": {
   "codemirror_mode": {
    "name": "ipython",
    "version": 3
   },
   "file_extension": ".py",
   "mimetype": "text/x-python",
   "name": "python",
   "nbconvert_exporter": "python",
   "pygments_lexer": "ipython3",
   "version": "3.6.1"
  }
 },
 "nbformat": 4,
 "nbformat_minor": 2
}
